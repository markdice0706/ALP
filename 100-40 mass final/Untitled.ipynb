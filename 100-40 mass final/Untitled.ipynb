{
 "cells": [
  {
   "cell_type": "code",
   "execution_count": 1,
   "metadata": {},
   "outputs": [],
   "source": [
    "m_axlist = [100,90,80,70,60,50,40,30]\n",
    "x_seclist = [4584, 5059, 5583, 6252, 6998, 7858, 8969, 10220]\n",
    "\n",
    "s_m_axlist = [1, 5, 10, 15, 20, 25]\n",
    "s_x_seclist = [15990, 15250, 14060, 12870, 11850, 10890]"
   ]
  },
  {
   "cell_type": "code",
   "execution_count": 2,
   "metadata": {},
   "outputs": [],
   "source": [
    "s_m_axlist.reverse()\n",
    "s_x_seclist.reverse()\n",
    "\n"
   ]
  },
  {
   "cell_type": "code",
   "execution_count": 3,
   "metadata": {},
   "outputs": [
    {
     "name": "stdout",
     "output_type": "stream",
     "text": [
      "ALPmass = [100, 90, 80, 70, 60, 50, 40, 30, 25, 20, 15, 10, 5, 1]\n",
      "X_section = [4584, 5059, 5583, 6252, 6998, 7858, 8969, 10220, 10890, 11850, 12870, 14060, 15250, 15990]\n"
     ]
    }
   ],
   "source": [
    "m_axlist.extend(s_m_axlist)\n",
    "x_seclist.extend(s_x_seclist)\n",
    "\n",
    "print('ALPmass =',m_axlist)\n",
    "print('X_section =',x_seclist)"
   ]
  },
  {
   "cell_type": "code",
   "execution_count": 4,
   "metadata": {},
   "outputs": [
    {
     "ename": "NameError",
     "evalue": "name 'plt' is not defined",
     "output_type": "error",
     "traceback": [
      "\u001b[0;31m---------------------------------------------------------------------------\u001b[0m",
      "\u001b[0;31mNameError\u001b[0m                                 Traceback (most recent call last)",
      "Cell \u001b[0;32mIn[4], line 1\u001b[0m\n\u001b[0;32m----> 1\u001b[0m \u001b[43mplt\u001b[49m\u001b[38;5;241m.\u001b[39mfigure(\u001b[38;5;241m1\u001b[39m)\n\u001b[1;32m      2\u001b[0m plt\u001b[38;5;241m.\u001b[39mplot(m_axlist,x_seclist,color \u001b[38;5;241m=\u001b[39m \u001b[38;5;124m'\u001b[39m\u001b[38;5;124mblue\u001b[39m\u001b[38;5;124m'\u001b[39m)\n\u001b[1;32m      3\u001b[0m plt\u001b[38;5;241m.\u001b[39mtitle(\u001b[38;5;124m'\u001b[39m\u001b[38;5;124mfa limit\u001b[39m\u001b[38;5;124m'\u001b[39m)\n",
      "\u001b[0;31mNameError\u001b[0m: name 'plt' is not defined"
     ]
    }
   ],
   "source": [
    "plt.figure(1)\n",
    "plt.plot(m_axlist,x_seclist,color = 'blue')\n",
    "plt.title('fa limit')\n",
    "plt.xlabel('ALP mass')\n",
    "plt.ylabel('fa')\n",
    "plt.yscale(\"log\")\n",
    "plt.legend(loc='best')\n",
    "plt.show"
   ]
  },
  {
   "cell_type": "code",
   "execution_count": null,
   "metadata": {},
   "outputs": [],
   "source": []
  }
 ],
 "metadata": {
  "kernelspec": {
   "display_name": "Python 3 (ipykernel)",
   "language": "python",
   "name": "python3"
  },
  "language_info": {
   "codemirror_mode": {
    "name": "ipython",
    "version": 3
   },
   "file_extension": ".py",
   "mimetype": "text/x-python",
   "name": "python",
   "nbconvert_exporter": "python",
   "pygments_lexer": "ipython3",
   "version": "3.8.10"
  }
 },
 "nbformat": 4,
 "nbformat_minor": 4
}
