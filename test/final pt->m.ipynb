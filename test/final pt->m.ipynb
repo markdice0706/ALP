{
 "cells": [
  {
   "cell_type": "code",
   "execution_count": 1,
   "metadata": {},
   "outputs": [
    {
     "name": "stdout",
     "output_type": "stream",
     "text": [
      "Welcome to JupyROOT 6.20/04\n"
     ]
    }
   ],
   "source": [
    "import pylhe\n",
    "import ROOT\n",
    "import math\n",
    "import os\n",
    "import pandas as pd\n",
    "import uproot\n",
    "import numpy as np\n",
    "import matplotlib.pyplot as plt\n"
   ]
  },
  {
   "cell_type": "code",
   "execution_count": 2,
   "metadata": {},
   "outputs": [],
   "source": [
    "sg_file = uproot.open(\"/data/event/sg_ppwax100/Events/run_01/tag_1_delphes_events.root\") \n",
    "bg_file = uproot.open(\"/data/event/bg_sm100/Events/run_01/tag_1_delphes_events.root\")"
   ]
  },
  {
   "cell_type": "code",
   "execution_count": 3,
   "metadata": {},
   "outputs": [],
   "source": [
    "def file_np(file):\n",
    "    event = [ file[\"Delphes;1\"][\"Electron\"].array(),\n",
    "              file[\"Delphes;1\"][\"Electron.PT\"].array(),\n",
    "              file[\"Delphes;1\"][\"Electron.Eta\"].array(),\n",
    "              file[\"Delphes;1\"][\"Electron.Phi\"].array(),\n",
    "              file[\"Delphes;1\"][\"Muon\"].array(),                #4\n",
    "              file[\"Delphes;1\"][\"Muon.PT\"].array(),\n",
    "              file[\"Delphes;1\"][\"Muon.Eta\"].array(),\n",
    "              file[\"Delphes;1\"][\"Muon.Phi\"].array(),\n",
    "              file[\"Delphes;1\"][\"Photon\"].array(),              #8\n",
    "              file[\"Delphes;1\"][\"Photon.PT\"].array(),\n",
    "              file[\"Delphes;1\"][\"Photon.Eta\"].array(),\n",
    "              file[\"Delphes;1\"][\"Photon.Phi\"].array(),\n",
    "              file[\"Delphes;1\"][\"MissingET\"].array(),           #12\n",
    "              file[\"Delphes;1\"][\"MissingET.fUniqueID\"].array(),   \n",
    "              file[\"Delphes;1\"][\"MissingET.fBits\"].array(),\n",
    "              file[\"Delphes;1\"][\"MissingET.MET\"].array(),\n",
    "              file[\"Delphes;1\"][\"MissingET.Eta\"].array(),\n",
    "              file[\"Delphes;1\"][\"MissingET.Phi\"].array(),\n",
    "              file[\"Delphes;1\"][\"Jet\"].array(),                 #18\n",
    "              file[\"Delphes;1\"][\"Jet.EhadOverEem\"].array(),     \n",
    "              file[\"Delphes;1\"][\"Jet.Mass\"].array(),\n",
    "              file[\"Delphes;1\"][\"Event.Number\"].array(),\n",
    "              file[\"Delphes;1\"][\"Jet.Tau[5]\"].array()\n",
    "              ]\n",
    "    \n",
    "    event = np.expand_dims(event, axis=-1)    ### reshape data\n",
    "    event = event.transpose((1,0,2))\n",
    "    event = np.squeeze(event,axis=(2,))\n",
    "    return event \n",
    "    "
   ]
  },
  {
   "cell_type": "code",
   "execution_count": 4,
   "metadata": {},
   "outputs": [],
   "source": [
    "bg_events = file_np(bg_file)\n",
    "sg_events = file_np(sg_file)"
   ]
  },
  {
   "cell_type": "code",
   "execution_count": 5,
   "metadata": {},
   "outputs": [],
   "source": [
    "me = 0.000511\n",
    "\n",
    "################################################\n",
    "def prlen(events):\n",
    "    print(len(events))\n",
    "\n",
    "################################################  sel\n",
    "def num_sl(event,lab,num):\n",
    "    where1 = np.where(event[:,lab]==num)\n",
    "    return event[where1]\n",
    "\n",
    "def l_sl(event):\n",
    "    where1 = np.where(event[:,0]+event[:,4]==1)\n",
    "    return event[where1]\n",
    "       \n",
    "################################################  maa caculate\n",
    "def m_aa(events, m, pt1):\n",
    "    where1=[]   \n",
    "    for i in range(len(events)):\n",
    "        p = [0,0,0,0] \n",
    "        for j in range(events[i][8]):\n",
    "            pt = events[i][9][j]   \n",
    "            eta = events[i][10][j]  \n",
    "            phi = events[i][11][j]    \n",
    "            p[1] = p[1] + pt*np.cos(phi)    ### px\n",
    "            p[2] = p[2] + pt*np.sin(phi)    ### py\n",
    "            p[3] = p[3] + pt*np.sinh(eta)   ### pz\n",
    "            p[0] = p[0] + np.sqrt( (pt*np.cos(phi))**2 + (pt*np.sin(phi))**2 + (pt*np.sinh(eta))**2 )     \n",
    "        maa = np.sqrt(p[0]**2 - p[1]**2 - p[2]**2 - p[3]**2)\n",
    "        m.append(maa)\n",
    "        pTaa = np.sqrt(p[1]**2 + p[2]**2)\n",
    "        pt1.append(pTaa)\n",
    "        if 90<maa<110:\n",
    "            where1.append(i)\n",
    "    return events[where1]\n",
    "################################################        \n",
    "def pt_sl(events):\n",
    "    where1=[]\n",
    "    for i in range(len(events)):\n",
    "        p = [0,0,0,0]    \n",
    "        for j in range(events[i][8]):\n",
    "            pt = events[i][9][j]    \n",
    "            eta = events[i][10][j]    \n",
    "            phi = events[i][11][j]   \n",
    "            p[1] = p[1] + pt*np.cos(phi)    ### px\n",
    "            p[2] = p[2] + pt*np.sin(phi)    ### py\n",
    "        pTaa = np.sqrt(p[1]**2 + p[2]**2)    \n",
    "        if pTaa>50:\n",
    "              where1.append(i)\n",
    "    return events[where1]\n",
    "        "
   ]
  },
  {
   "cell_type": "code",
   "execution_count": 6,
   "metadata": {},
   "outputs": [
    {
     "name": "stdout",
     "output_type": "stream",
     "text": [
      "2729\n",
      "299\n",
      "2684\n",
      "27\n",
      "\u001b[0;34msg after 2aa sl :\u001b[0m 4520\n",
      "\u001b[0;34msg after 2aa_1l sl :\u001b[0m 2965\n",
      "\u001b[0;34msg after 2aa_1l and 90<maa<110 sl :\u001b[0m 2907\n",
      "\n",
      "\u001b[0;33mbg after 2aa sl :\u001b[0m 4056\n",
      "\u001b[0;33mbg after 2aa_1l sl :\u001b[0m 2449\n",
      "\u001b[0;33mbg after 2aa_1l and 90<maa<110 sl :\u001b[0m 74\n"
     ]
    },
    {
     "data": {
      "text/plain": [
       "<function matplotlib.pyplot.show(close=None, block=None)>"
      ]
     },
     "execution_count": 6,
     "metadata": {},
     "output_type": "execute_result"
    },
    {
     "data": {
      "image/png": "[encoded data removed]",
      "text/plain": [
       "<Figure size 640x480 with 1 Axes>"
      ]
     },
     "metadata": {},
     "output_type": "display_data"
    },
    {
     "data": {
      "image/png": "[encoded data removed]",
      "text/plain": [
       "<Figure size 640x480 with 1 Axes>"
      ]
     },
     "metadata": {},
     "output_type": "display_data"
    }
   ],
   "source": [
    "####################################################################################### two_a , 1_l , maa   sel\n",
    "sgsl_2a = num_sl(sg_events,8,2)\n",
    "sgsl_2a_1l = l_sl(sgsl_2a)\n",
    "bgsl_2a = num_sl(bg_events,8,2)\n",
    "bgsl_2a_1l = l_sl(bgsl_2a)\n",
    "\n",
    "maa_sgsl_2a_1l=[]\n",
    "pt_sgsl_2a_1l=[]\n",
    "maa_bgsl_2a_1l=[]\n",
    "pt_bgsl_2a_1l=[]\n",
    "\n",
    "################################# pt sl\n",
    "\n",
    "\n",
    "maa_sgsl_2a_1l_pt=[]\n",
    "pt_sgsl_2a_1l_pt=[]\n",
    "maa_bgsl_2a_1l_pt=[]\n",
    "pt_bgsl_2a_1l_pt=[]\n",
    "\n",
    "\n",
    "sgsl_2a_1l_pt = pt_sl(sgsl_2a_1l)\n",
    "bgsl_2a_1l_pt = pt_sl(bgsl_2a_1l)\n",
    "prlen(sgsl_2a_1l_pt)\n",
    "prlen(bgsl_2a_1l_pt)\n",
    "\n",
    "sgsl_2a_1l_pt_msl = m_aa(sgsl_2a_1l_pt,maa_sgsl_2a_1l_pt,pt_sgsl_2a_1l_pt)   \n",
    "bgsl_2a_1l_pt_msl = m_aa(bgsl_2a_1l_pt,maa_bgsl_2a_1l_pt,pt_bgsl_2a_1l_pt)\n",
    "\n",
    "prlen(sgsl_2a_1l_pt_msl)\n",
    "prlen(bgsl_2a_1l_pt_msl)\n",
    "################################## maa sl result\n",
    "sgsl_2a_1l_msl = m_aa(sgsl_2a_1l,maa_sgsl_2a_1l,pt_sgsl_2a_1l)   ###msl   90<max<110\n",
    "bgsl_2a_1l_msl = m_aa(bgsl_2a_1l,maa_bgsl_2a_1l,pt_bgsl_2a_1l) \n",
    "\n",
    "print('\\033[0;34msg after 2aa sl :\\033[0m',len(sgsl_2a))\n",
    "print('\\033[0;34msg after 2aa_1l sl :\\033[0m',len(sgsl_2a_1l))\n",
    "print('\\033[0;34msg after 2aa_1l and 90<maa<110 sl :\\033[0m',len(sgsl_2a_1l_msl))\n",
    "print('')\n",
    "print('\\033[0;33mbg after 2aa sl :\\033[0m',len(bgsl_2a))\n",
    "print('\\033[0;33mbg after 2aa_1l sl :\\033[0m',len(bgsl_2a_1l))\n",
    "print('\\033[0;33mbg after 2aa_1l and 90<maa<110 sl :\\033[0m',len(bgsl_2a_1l_msl))\n",
    "\n",
    "##################################\n",
    "\n",
    "\n",
    "plt.figure(1)\n",
    "bins=np.arange(0,200,1) \n",
    "plt.hist(maa_sgsl_2a_1l_pt, bins=bins, label=\"signal\", histtype='step')\n",
    "plt.hist(maa_bgsl_2a_1l_pt, bins=bins, label=\"background\", histtype='step')\n",
    "plt.axvline(90, color='r')\n",
    "plt.axvline(110, color='r')\n",
    "plt.legend()\n",
    "plt.show\n",
    "\n",
    "plt.figure(2)\n",
    "bins=np.arange(0,200,1) \n",
    "plt.hist(pt_sgsl_2a_1l_pt, bins=bins, label=\"signal\", histtype='step')\n",
    "plt.hist(pt_bgsl_2a_1l_pt, bins=bins, label=\"background\", histtype='step')\n",
    "plt.axvline(50, color='r')\n",
    "plt.legend()\n",
    "plt.show\n",
    "#######################################from fig2 pt_cut>50"
   ]
  },
  {
   "cell_type": "code",
   "execution_count": 7,
   "metadata": {},
   "outputs": [
    {
     "name": "stdout",
     "output_type": "stream",
     "text": [
      "2684\n",
      "27\n"
     ]
    }
   ],
   "source": [
    "################################################################################################pt sl\n",
    "sgsl_2a_1l_msl_pt = pt_sl(sgsl_2a_1l_msl)\n",
    "bgsl_2a_1l_msl_pt = pt_sl(bgsl_2a_1l_msl)\n",
    "\n",
    "prlen(sgsl_2a_1l_msl_pt)\n",
    "prlen(bgsl_2a_1l_msl_pt)\n"
   ]
  },
  {
   "cell_type": "code",
   "execution_count": null,
   "metadata": {},
   "outputs": [],
   "source": [
    "sgsl_2a = num_sl(sg_events,8,2)\n",
    "sgsl_2a_1e =  num_sl(sgsl_2a,0,1)\n",
    "sgsl_2a_1u =  num_sl(sgsl_2a,4,1)\n",
    "\n",
    "print('sg after 2aa sl :',len(sgsl_2a))\n",
    "print('sg after 2aa_1e sl :',len(sgsl_2a_1e))\n",
    "print('sg after 2aa_1u sl :',len(sgsl_2a_1u))\n",
    "print('')\n",
    "\n",
    "bgsl_2a = num_sl(bg_events,8,2)\n",
    "bgsl_2a_1e =  num_sl(bgsl_2a,0,1)\n",
    "bgsl_2a_1u =  num_sl(bgsl_2a,4,1)\n",
    "\n",
    "print('bg after 2aa sl :',len(bgsl_2a))\n",
    "print('bg after 2aa_1e sl :',len(bgsl_2a_1e))\n",
    "print('bg after 2aa_1u sl :',len(bgsl_2a_1u))\n",
    "\n",
    "#////////////////////////////////////////////////\n",
    "ma=[]\n",
    "mau=[]\n",
    "bg_ma=[]\n",
    "bg_mau=[]\n",
    "\n",
    "pta=[]\n",
    "ptau=[]\n",
    "bg_pta=[]\n",
    "bg_ptau=[]\n",
    "\n",
    "mlv=[]\n",
    "bg_mlv=[]\n",
    "\n",
    "sg_ma_2a_1e=[]\n",
    "bg_ma_2a_1e=[]\n",
    "sg_ma_2a_1u=[]\n",
    "bg_ma_2a_1u=[]\n",
    "\n",
    "#////////////////////////////////////////////////\n",
    "m_aa(sgsl_2a_1e, ma, pta)\n",
    "m_aa(bgsl_2a_1e,bg_ma,bg_pta)\n",
    "\n",
    "m_aa(sgsl_2a_1u, mau, ptau)\n",
    "m_aa(bgsl_2a_1u,bg_mau,bg_ptau)\n",
    "\n",
    "\n",
    "sg_sel_mlv = mlv_fuc(sel_ele,mlv)\n",
    "bg_sel_mlv = mlv_fuc(bg_sel_ele,bg_mlv)\n",
    "#////////////////////////////////////////////////\n",
    "print('')\n",
    "sel_m(ma,sg_ma_2a_1e,90,110)\n",
    "sel_m(bg_ma,bg_ma_2a_1e,90,110)\n",
    "print('sg_2aa_1e 90<maa<110 :',len(sg_ma_2a_1e))\n",
    "print('bg_2aa_1e 90<maa<110 :',len(bg_ma_2a_1e))\n",
    "print('')\n",
    "sel_m(mau,sg_ma_2a_1u,90,110)\n",
    "sel_m(bg_mau,bg_ma_2a_1u,90,110)\n",
    "print('sg_2aa_1u 90<maa<110 :',len(sg_ma_2a_1u))\n",
    "print('bg_2aa_1u 90<maa<110 :',len(bg_ma_2a_1u))\n",
    "print('')\n",
    "print('\\033[31msg_2aa_1l 90<maa<110 :',len(sg_ma_2a_1e)+len(sg_ma_2a_1u))\n",
    "print('\\033[31mbg_2aa_1l 90<maa<110 :',len(bg_ma_2a_1e)+len(bg_ma_2a_1u))\n",
    "\n",
    "\n",
    "\n",
    "    \n",
    "bins=np.arange(0,200,1)\n",
    "plt.hist(ma, bins=bins, histtype='step', color='black', label=\"sg\" )\n",
    "plt.hist(bg_ma, bins=bins, histtype='step', color='red', label=\"bg\" )\n",
    "plt.legend()\n",
    "plt.show\n",
    "\n"
   ]
  },
  {
   "cell_type": "code",
   "execution_count": null,
   "metadata": {},
   "outputs": [],
   "source": []
  },
  {
   "cell_type": "code",
   "execution_count": null,
   "metadata": {},
   "outputs": [],
   "source": [
    "sgsl_2a_1e_pt=[]\n",
    "sgsl_2a_1u_pt=[]\n",
    "\n",
    "bgsl_2a_1e_pt=[]\n",
    "bgsl_2a_1u_pt=[]\n",
    "\n",
    "sgsl_2a_1l_pt=[]\n",
    "bgsl_2a_1l_pt=[]\n",
    "\n",
    "ptsl(sgsl_2a_1e,sgsl_2a_1e_pt)\n",
    "ptsl(sgsl_2a_1u,sgsl_2a_1u_pt)\n",
    "\n",
    "ptsl(bgsl_2a_1e,bgsl_2a_1e_pt)\n",
    "ptsl(bgsl_2a_1u,bgsl_2a_1u_pt)\n",
    "\n",
    "sgsl_2a_1l_pt=sgsl_2a_1e_pt+sgsl_2a_1u_pt\n",
    "bgsl_2a_1l_pt=bgsl_2a_1e_pt+bgsl_2a_1u_pt\n",
    "\n",
    "print(len(sgsl_2a_1l_pt))\n",
    "print(len(bgsl_2a_1l_pt))\n",
    "\n",
    "\n",
    "\n",
    "\n",
    "\n",
    "bins=np.arange(0,200,2)\n",
    "plt.hist(pta, bins=bins, histtype='step', color='black')\n",
    "plt.hist(bg_pta, bins=bins, histtype='step', color='red')\n",
    "plt.show"
   ]
  },
  {
   "cell_type": "code",
   "execution_count": null,
   "metadata": {},
   "outputs": [],
   "source": [
    "bins=np.arange(0,1000,8)\n",
    "plt.hist(mlv, bins=bins, histtype='step', color='black')\n",
    "plt.hist(bg_mlv, bins=bins, histtype='step', color='red')\n",
    "plt.show"
   ]
  },
  {
   "cell_type": "code",
   "execution_count": null,
   "metadata": {},
   "outputs": [],
   "source": [
    "    a1=[]\n",
    "    b1=[]\n",
    "    c1=[]\n",
    "    d1=[]\n",
    "for i in range(10):\n",
    "    \n",
    "     a = len(sg_events[np.where(sg_events[:,18]==i)])\n",
    "     b = len(bg_events[np.where(bg_events[:,18]==i)])\n",
    "     c = len(sel_photon[np.where(sel_photon[:,18]==i)])\n",
    "     d = len(sel_ele[np.where(sel_ele[:,18]==i)])\n",
    "     print(a)\n",
    "     a1.append(a)\n",
    "     b1.append(b)\n",
    "     c1.append(c)\n",
    "     d1.append(d)\n",
    "print(a1)    "
   ]
  },
  {
   "cell_type": "code",
   "execution_count": null,
   "metadata": {},
   "outputs": [],
   "source": [
    "plt.bar(range(len(b1)), b1, color='black', label='bg')\n",
    "plt.bar(range(len(a1)), a1, color='salmon', label='sg')\n",
    "plt.bar(range(len(c1)), c1, color='green', label='two_a sg')\n",
    "plt.bar(range(len(d1)), d1, color='orange', label='one_e sg')\n",
    "plt.legend(loc = 'upper right')\n",
    "plt.show"
   ]
  },
  {
   "cell_type": "code",
   "execution_count": null,
   "metadata": {},
   "outputs": [],
   "source": []
  },
  {
   "cell_type": "code",
   "execution_count": null,
   "metadata": {},
   "outputs": [],
   "source": []
  }
 ],
 "metadata": {
  "kernelspec": {
   "display_name": "Python 3 (ipykernel)",
   "language": "python",
   "name": "python3"
  },
  "language_info": {
   "codemirror_mode": {
    "name": "ipython",
    "version": 3
   },
   "file_extension": ".py",
   "mimetype": "text/x-python",
   "name": "python",
   "nbconvert_exporter": "python",
   "pygments_lexer": "ipython3",
   "version": "3.8.5"
  }
 },
 "nbformat": 4,
 "nbformat_minor": 4
}
