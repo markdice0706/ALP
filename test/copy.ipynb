{
 "cells": [
  {
   "cell_type": "code",
   "execution_count": 1,
   "metadata": {},
   "outputs": [
    {
     "name": "stdout",
     "output_type": "stream",
     "text": [
      "Welcome to JupyROOT 6.20/04\n"
     ]
    }
   ],
   "source": [
    "import pylhe\n",
    "import ROOT\n",
    "import math\n",
    "import os\n",
    "import pandas as pd\n",
    "import uproot\n",
    "import numpy as np\n",
    "import matplotlib.pyplot as plt\n"
   ]
  },
  {
   "cell_type": "code",
   "execution_count": 2,
   "metadata": {},
   "outputs": [],
   "source": [
    "sg_file = uproot.open(\"/data/event/sg_ppwax100/Events/run_01/tag_1_delphes_events.root\") \n",
    "bg_file = uproot.open(\"/data/event/bg_sm100/Events/run_01/tag_1_delphes_events.root\")"
   ]
  },
  {
   "cell_type": "code",
   "execution_count": 3,
   "metadata": {},
   "outputs": [],
   "source": [
    "def file_np(file):\n",
    "    event = [ file[\"Delphes;1\"][\"Electron\"].array(),\n",
    "              file[\"Delphes;1\"][\"Electron.PT\"].array(),\n",
    "              file[\"Delphes;1\"][\"Electron.Eta\"].array(),\n",
    "              file[\"Delphes;1\"][\"Electron.Phi\"].array(),\n",
    "              file[\"Delphes;1\"][\"Muon\"].array(),                #4\n",
    "              file[\"Delphes;1\"][\"Muon.PT\"].array(),\n",
    "              file[\"Delphes;1\"][\"Muon.Eta\"].array(),\n",
    "              file[\"Delphes;1\"][\"Muon.Phi\"].array(),\n",
    "              file[\"Delphes;1\"][\"Photon\"].array(),              #8\n",
    "              file[\"Delphes;1\"][\"Photon.PT\"].array(),\n",
    "              file[\"Delphes;1\"][\"Photon.Eta\"].array(),\n",
    "              file[\"Delphes;1\"][\"Photon.Phi\"].array(),\n",
    "              file[\"Delphes;1\"][\"MissingET\"].array(),           #12\n",
    "              file[\"Delphes;1\"][\"MissingET.fUniqueID\"].array(),   \n",
    "              file[\"Delphes;1\"][\"MissingET.fBits\"].array(),\n",
    "              file[\"Delphes;1\"][\"MissingET.MET\"].array(),\n",
    "              file[\"Delphes;1\"][\"MissingET.Eta\"].array(),\n",
    "              file[\"Delphes;1\"][\"MissingET.Phi\"].array(),\n",
    "              file[\"Delphes;1\"][\"Jet\"].array(),                 #18\n",
    "              file[\"Delphes;1\"][\"Jet.EhadOverEem\"].array(),     \n",
    "              file[\"Delphes;1\"][\"Jet.Mass\"].array(),\n",
    "              file[\"Delphes;1\"][\"Event.Number\"].array(),\n",
    "              file[\"Delphes;1\"][\"Jet.Tau[5]\"].array()\n",
    "              ]\n",
    "    \n",
    "    event = np.expand_dims(event, axis=-1)    ### reshape data\n",
    "    event = event.transpose((1,0,2))\n",
    "    event = np.squeeze(event,axis=(2,))\n",
    "    return event \n",
    "    "
   ]
  },
  {
   "cell_type": "code",
   "execution_count": 4,
   "metadata": {},
   "outputs": [],
   "source": [
    "bg_events = file_np(bg_file)\n",
    "sg_events = file_np(sg_file)"
   ]
  },
  {
   "cell_type": "code",
   "execution_count": 61,
   "metadata": {},
   "outputs": [],
   "source": [
    "m = 0.000511\n",
    "def two_sl(event,lab,num):\n",
    "    where1 = np.where(event[:,lab]==num)\n",
    "    return event[where1]\n",
    "######## number sel\n",
    "def num_sl(event,lab,num):\n",
    "\n",
    "    where1 = np.where(event[:,lab]==num)\n",
    "    return event[where1]\n",
    "\n",
    "######## cal multi mass(ex two e e)\n",
    "def mll_fuc(event,labs,nums):\n",
    "\n",
    " c = len(two_sl(event,labs,nums))\n",
    "\n",
    " ept  = two_sl(event,labs,nums)[:,1]    \n",
    " eeta = two_sl(event,labs,nums)[:,2]\n",
    " ephi = two_sl(event,labs,nums)[:,3]\n",
    "                             \n",
    " mll_list = [] \n",
    "\n",
    " for i in range(c):\n",
    "     p = [0,0,0,0]\n",
    "     for j in range(nums):\n",
    "         px = ept[i][j]*np.cos(ephi[i][j])\n",
    "         py = ept[i][j]*np.sin(ephi[i][j])\n",
    "         pz = ept[i][j]*np.sinh(eeta[i][j])\n",
    "         p[1] = p[1] + px\n",
    "         p[2] = p[2] + py\n",
    "         p[3] = p[3] + pz\n",
    "         p[0] = p[0] + np.sqrt((m**2) + px**2 + py**2 +pz**2)\n",
    "     mll = np.sqrt(p[0]**2-p[3]**2-p[2]**2-p[1]**2)\n",
    "     mll_list.append(mll)\n",
    " return mll_list\n",
    "##########################cal l vl\n",
    "def mlv_fuc(sel,mlv_list):\n",
    "    m = 0.000511\n",
    "    where1=[]\n",
    "    lpt  = sel[:,1]    \n",
    "    lphi = sel[:,2]\n",
    "    leta = sel[:,3]\n",
    "    vlpt  = sel[:,15]    \n",
    "    vlphi = sel[:,16]\n",
    "    vleta = sel[:,17]\n",
    "    for i in range(len(sel)):\n",
    "        p = [0,0,0,0]\n",
    "        pt1 = lpt[i][0]\n",
    "        eta1= leta[i][0]\n",
    "        phi1= lphi[i][0]\n",
    "        pt2 = vlpt[i][0]\n",
    "        eta2= vleta[i][0]\n",
    "        phi2= vlphi[i][0]\n",
    "        \n",
    "        px1 = pt1*np.cos(phi1) \n",
    "        px2 = pt2*np.cos(phi2)\n",
    "        py1 = pt1*np.sin(phi1) \n",
    "        py2 = pt2*np.sin(phi2)\n",
    "        pz1 = pt1*np.sinh(eta1) \n",
    "        pz2 = pt2*np.sinh(eta2)\n",
    "        \n",
    "        p[1] = p[1] + px1 + px2\n",
    "        p[2] = p[2] + py1 + py2\n",
    "        p[3] = p[3] + pz1 + pz2\n",
    "        p[0] = p[0] + np.sqrt(m**2 + (px1)**2 + (py1)**2 + (pz1)**2) + np.sqrt((px2)**2 + (py2)**2 + (pz2)**2)\n",
    "        mlv = np.sqrt(p[0]**2-p[3]**2-p[2]**2-p[1]**2)\n",
    "#        if 0<mlv<250:\n",
    "        mlv_list.append(mlv)\n",
    "        where1.append(i)\n",
    "    where = np.unique(where1)    \n",
    "    return(sel[where])\n",
    "########################################\n",
    "\n",
    "def m_aa(events, m, pt1):\n",
    "   \n",
    "    for i in range(len(events)):\n",
    "        p = [0,0,0,0]    ### four momentum\n",
    "        for j in range(events[i][8]):\n",
    "            pt = events[i][9][j]    ### 9:photon transverse momentum\n",
    "            eta = events[i][10][j]    ### 10:photon polar angle\n",
    "            phi = events[i][11][j]    ### 11:photon pseudorapidity\n",
    "            p[1] = p[1] + pt*np.cos(phi)    ### px\n",
    "            p[2] = p[2] + pt*np.sin(phi)    ### py\n",
    "            p[3] = p[3] + pt*np.sinh(eta)    ### pz\n",
    "            p[0] = p[0] + np.sqrt( (pt*np.cos(phi))**2 + (pt*np.sin(phi))**2 + (pt*np.sinh(eta))**2 )    ### energy with photon mass=0    \n",
    "        maa = np.sqrt(p[0]**2 - p[1]**2 - p[2]**2 - p[3]**2)\n",
    "        m.append(maa)\n",
    "        pTaa = np.sqrt(p[1]**2 + p[2]**2)\n",
    "        pt1.append(pTaa)\n",
    "#///////////////////////////////////////////\n",
    "\n",
    "def ptsl(events,selpt):\n",
    "    for i in range(len(events)):\n",
    "        p = [0,0,0,0]    ### four momentum\n",
    "        for j in range(events[i][8]):\n",
    "            pt = events[i][9][j]    ### 9:photon transverse momentum\n",
    "            eta = events[i][10][j]    ### 10:photon polar angle\n",
    "            phi = events[i][11][j]    ### 11:photon pseudorapidity\n",
    "            p[1] = p[1] + pt*np.cos(phi)    ### px\n",
    "            p[2] = p[2] + pt*np.sin(phi)    ### py\n",
    "        pTaa = np.sqrt(p[1]**2 + p[2]**2)\n",
    "        if pTaa > 50:\n",
    "            selpt.append(pTaa)\n",
    "\n",
    "################################        \n",
    "        \n",
    "def sel_m(mlist,msl,down,up):\n",
    "    for i in mlist:\n",
    "        if down<i<up:\n",
    "            msl.append(i)\n"
   ]
  },
  {
   "cell_type": "code",
   "execution_count": 62,
   "metadata": {},
   "outputs": [
    {
     "name": "stdout",
     "output_type": "stream",
     "text": [
      "sg after 2aa sl : 4520\n",
      "sg after 2aa_1e sl : 1366\n",
      "sg after 2aa_1u sl : 1602\n",
      "\n",
      "bg after 2aa sl : 4056\n",
      "bg after 2aa_1e sl : 1055\n",
      "bg after 2aa_1u sl : 1394\n",
      "\n",
      "sg_2aa_1e 90<maa<110 : 1346\n",
      "bg_2aa_1e 90<maa<110 : 33\n",
      "\n",
      "sg_2aa_1u 90<maa<110 : 1563\n",
      "bg_2aa_1u 90<maa<110 : 41\n",
      "\n",
      "\u001b[31msg_2aa_1l 90<maa<110 : 2909\n",
      "\u001b[31mbg_2aa_1l 90<maa<110 : 74\n"
     ]
    },
    {
     "data": {
      "text/plain": [
       "<function matplotlib.pyplot.show(close=None, block=None)>"
      ]
     },
     "execution_count": 62,
     "metadata": {},
     "output_type": "execute_result"
    },
    {
     "data": {
      "image/png": "[encoded data removed]",
      "text/plain": [
       "<Figure size 640x480 with 1 Axes>"
      ]
     },
     "metadata": {},
     "output_type": "display_data"
    }
   ],
   "source": [
    "sgsl_2a = num_sl(sg_events,8,2)\n",
    "sgsl_2a_1e =  num_sl(sgsl_2a,0,1)\n",
    "sgsl_2a_1u =  num_sl(sgsl_2a,4,1)\n",
    "\n",
    "print('sg after 2aa sl :',len(sgsl_2a))\n",
    "print('sg after 2aa_1e sl :',len(sgsl_2a_1e))\n",
    "print('sg after 2aa_1u sl :',len(sgsl_2a_1u))\n",
    "print('')\n",
    "\n",
    "bgsl_2a = num_sl(bg_events,8,2)\n",
    "bgsl_2a_1e =  num_sl(bgsl_2a,0,1)\n",
    "bgsl_2a_1u =  num_sl(bgsl_2a,4,1)\n",
    "\n",
    "print('bg after 2aa sl :',len(bgsl_2a))\n",
    "print('bg after 2aa_1e sl :',len(bgsl_2a_1e))\n",
    "print('bg after 2aa_1u sl :',len(bgsl_2a_1u))\n",
    "\n",
    "#////////////////////////////////////////////////\n",
    "ma=[]\n",
    "mau=[]\n",
    "bg_ma=[]\n",
    "bg_mau=[]\n",
    "\n",
    "pta=[]\n",
    "ptau=[]\n",
    "bg_pta=[]\n",
    "bg_ptau=[]\n",
    "\n",
    "mlv=[]\n",
    "bg_mlv=[]\n",
    "\n",
    "sg_ma_2a_1e=[]\n",
    "bg_ma_2a_1e=[]\n",
    "sg_ma_2a_1u=[]\n",
    "bg_ma_2a_1u=[]\n",
    "\n",
    "#////////////////////////////////////////////////\n",
    "m_aa(sgsl_2a_1e, ma, pta)\n",
    "m_aa(bgsl_2a_1e,bg_ma,bg_pta)\n",
    "\n",
    "m_aa(sgsl_2a_1u, mau, ptau)\n",
    "m_aa(bgsl_2a_1u,bg_mau,bg_ptau)\n",
    "\n",
    "\n",
    "sg_sel_mlv = mlv_fuc(sel_ele,mlv)\n",
    "bg_sel_mlv = mlv_fuc(bg_sel_ele,bg_mlv)\n",
    "#////////////////////////////////////////////////\n",
    "print('')\n",
    "sel_m(ma,sg_ma_2a_1e,90,110)\n",
    "sel_m(bg_ma,bg_ma_2a_1e,90,110)\n",
    "print('sg_2aa_1e 90<maa<110 :',len(sg_ma_2a_1e))\n",
    "print('bg_2aa_1e 90<maa<110 :',len(bg_ma_2a_1e))\n",
    "print('')\n",
    "sel_m(mau,sg_ma_2a_1u,90,110)\n",
    "sel_m(bg_mau,bg_ma_2a_1u,90,110)\n",
    "print('sg_2aa_1u 90<maa<110 :',len(sg_ma_2a_1u))\n",
    "print('bg_2aa_1u 90<maa<110 :',len(bg_ma_2a_1u))\n",
    "print('')\n",
    "print('\\033[31msg_2aa_1l 90<maa<110 :',len(sg_ma_2a_1e)+len(sg_ma_2a_1u))\n",
    "print('\\033[31mbg_2aa_1l 90<maa<110 :',len(bg_ma_2a_1e)+len(bg_ma_2a_1u))\n",
    "\n",
    "\n",
    "\n",
    "    \n",
    "bins=np.arange(0,200,1)\n",
    "plt.hist(ma, bins=bins, histtype='step', color='black', label=\"sg\" )\n",
    "plt.hist(bg_ma, bins=bins, histtype='step', color='red', label=\"bg\" )\n",
    "plt.legend()\n",
    "plt.show\n",
    "\n"
   ]
  },
  {
   "cell_type": "code",
   "execution_count": null,
   "metadata": {},
   "outputs": [],
   "source": []
  },
  {
   "cell_type": "code",
   "execution_count": 65,
   "metadata": {},
   "outputs": [
    {
     "name": "stdout",
     "output_type": "stream",
     "text": [
      "2732\n",
      "299\n"
     ]
    },
    {
     "data": {
      "text/plain": [
       "<function matplotlib.pyplot.show(close=None, block=None)>"
      ]
     },
     "execution_count": 65,
     "metadata": {},
     "output_type": "execute_result"
    },
    {
     "data": {
      "image/png": "[encoded data removed]",
      "text/plain": [
       "<Figure size 640x480 with 1 Axes>"
      ]
     },
     "metadata": {},
     "output_type": "display_data"
    }
   ],
   "source": [
    "sgsl_2a_1e_pt=[]\n",
    "sgsl_2a_1u_pt=[]\n",
    "\n",
    "bgsl_2a_1e_pt=[]\n",
    "bgsl_2a_1u_pt=[]\n",
    "\n",
    "sgsl_2a_1l_pt=[]\n",
    "bgsl_2a_1l_pt=[]\n",
    "\n",
    "ptsl(sgsl_2a_1e,sgsl_2a_1e_pt)\n",
    "ptsl(sgsl_2a_1u,sgsl_2a_1u_pt)\n",
    "\n",
    "ptsl(bgsl_2a_1e,bgsl_2a_1e_pt)\n",
    "ptsl(bgsl_2a_1u,bgsl_2a_1u_pt)\n",
    "\n",
    "sgsl_2a_1l_pt=sgsl_2a_1e_pt+sgsl_2a_1u_pt\n",
    "bgsl_2a_1l_pt=bgsl_2a_1e_pt+bgsl_2a_1u_pt\n",
    "\n",
    "print(len(sgsl_2a_1l_pt))\n",
    "print(len(bgsl_2a_1l_pt))\n",
    "\n",
    "\n",
    "\n",
    "\n",
    "\n",
    "bins=np.arange(0,200,2)\n",
    "plt.hist(pta, bins=bins, histtype='step', color='black')\n",
    "plt.hist(bg_pta, bins=bins, histtype='step', color='red')\n",
    "plt.show"
   ]
  },
  {
   "cell_type": "code",
   "execution_count": 45,
   "metadata": {},
   "outputs": [
    {
     "data": {
      "text/plain": [
       "<function matplotlib.pyplot.show(close=None, block=None)>"
      ]
     },
     "execution_count": 45,
     "metadata": {},
     "output_type": "execute_result"
    },
    {
     "data": {
      "image/png": "[encoded data removed]",
      "text/plain": [
       "<Figure size 640x480 with 1 Axes>"
      ]
     },
     "metadata": {},
     "output_type": "display_data"
    }
   ],
   "source": [
    "bins=np.arange(0,1000,8)\n",
    "plt.hist(mlv, bins=bins, histtype='step', color='black')\n",
    "plt.hist(bg_mlv, bins=bins, histtype='step', color='red')\n",
    "plt.show"
   ]
  },
  {
   "cell_type": "code",
   "execution_count": 9,
   "metadata": {},
   "outputs": [
    {
     "name": "stdout",
     "output_type": "stream",
     "text": [
      "2492\n",
      "3295\n",
      "2442\n",
      "1178\n",
      "407\n",
      "120\n",
      "50\n",
      "14\n",
      "1\n",
      "1\n",
      "[2492, 3295, 2442, 1178, 407, 120, 50, 14, 1, 1]\n"
     ]
    }
   ],
   "source": [
    "    a1=[]\n",
    "    b1=[]\n",
    "    c1=[]\n",
    "    d1=[]\n",
    "for i in range(10):\n",
    "    \n",
    "     a = len(sg_events[np.where(sg_events[:,18]==i)])\n",
    "     b = len(bg_events[np.where(bg_events[:,18]==i)])\n",
    "     c = len(sel_photon[np.where(sel_photon[:,18]==i)])\n",
    "     d = len(sel_ele[np.where(sel_ele[:,18]==i)])\n",
    "     print(a)\n",
    "     a1.append(a)\n",
    "     b1.append(b)\n",
    "     c1.append(c)\n",
    "     d1.append(d)\n",
    "print(a1)    "
   ]
  },
  {
   "cell_type": "code",
   "execution_count": 66,
   "metadata": {},
   "outputs": [
    {
     "data": {
      "text/plain": [
       "<function matplotlib.pyplot.show(close=None, block=None)>"
      ]
     },
     "execution_count": 66,
     "metadata": {},
     "output_type": "execute_result"
    },
    {
     "data": {
      "image/png": "[encoded data removed]",
      "text/plain": [
       "<Figure size 640x480 with 1 Axes>"
      ]
     },
     "metadata": {},
     "output_type": "display_data"
    }
   ],
   "source": [
    "plt.bar(range(len(b1)), b1, color='black', label='bg')\n",
    "plt.bar(range(len(a1)), a1, color='salmon', label='sg')\n",
    "plt.bar(range(len(c1)), c1, color='green', label='two_a sg')\n",
    "plt.bar(range(len(d1)), d1, color='orange', label='one_e sg')\n",
    "plt.legend(loc = 'upper right')\n",
    "plt.show"
   ]
  },
  {
   "cell_type": "code",
   "execution_count": null,
   "metadata": {},
   "outputs": [],
   "source": []
  },
  {
   "cell_type": "code",
   "execution_count": null,
   "metadata": {},
   "outputs": [],
   "source": []
  }
 ],
 "metadata": {
  "kernelspec": {
   "display_name": "Python 3 (ipykernel)",
   "language": "python",
   "name": "python3"
  },
  "language_info": {
   "codemirror_mode": {
    "name": "ipython",
    "version": 3
   },
   "file_extension": ".py",
   "mimetype": "text/x-python",
   "name": "python",
   "nbconvert_exporter": "python",
   "pygments_lexer": "ipython3",
   "version": "3.8.5"
  }
 },
 "nbformat": 4,
 "nbformat_minor": 4
}
