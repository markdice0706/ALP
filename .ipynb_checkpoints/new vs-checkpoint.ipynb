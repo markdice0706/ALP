{
 "cells": [
  {
   "cell_type": "code",
   "execution_count": 1,
   "metadata": {},
   "outputs": [
    {
     "name": "stdout",
     "output_type": "stream",
     "text": [
      "Welcome to JupyROOT 6.20/04\n"
     ]
    }
   ],
   "source": [
    "import pylhe\n",
    "import ROOT\n",
    "import math\n",
    "import os\n",
    "import pandas as pd\n",
    "import uproot\n",
    "import numpy as np\n",
    "import matplotlib.pyplot as plt\n"
   ]
  },
  {
   "cell_type": "code",
   "execution_count": 2,
   "metadata": {},
   "outputs": [],
   "source": [
    "sg_file = uproot.open(\"/data/event/sg_10test/Events/run_01/tag_1_delphes_events.root\") \n",
    "bg_file = uproot.open(\"/data/event/bg_sm100/Events/run_01/tag_1_delphes_events.root\")"
   ]
  },
  {
   "cell_type": "code",
   "execution_count": 3,
   "metadata": {},
   "outputs": [],
   "source": [
    "def file_np(file):\n",
    "    event = [ file[\"Delphes;1\"][\"Electron\"].array(),\n",
    "              file[\"Delphes;1\"][\"Electron.PT\"].array(),\n",
    "              file[\"Delphes;1\"][\"Electron.Eta\"].array(),\n",
    "              file[\"Delphes;1\"][\"Electron.Phi\"].array(),\n",
    "              file[\"Delphes;1\"][\"Muon\"].array(),                #4\n",
    "              file[\"Delphes;1\"][\"Muon.PT\"].array(),\n",
    "              file[\"Delphes;1\"][\"Muon.Eta\"].array(),\n",
    "              file[\"Delphes;1\"][\"Muon.Phi\"].array(),\n",
    "              file[\"Delphes;1\"][\"Photon\"].array(),              #8\n",
    "              file[\"Delphes;1\"][\"Photon.PT\"].array(),\n",
    "              file[\"Delphes;1\"][\"Photon.Eta\"].array(),\n",
    "              file[\"Delphes;1\"][\"Photon.Phi\"].array(),\n",
    "              file[\"Delphes;1\"][\"MissingET\"].array(),           #12\n",
    "              file[\"Delphes;1\"][\"MissingET.fUniqueID\"].array(),   \n",
    "              file[\"Delphes;1\"][\"MissingET.fBits\"].array(),\n",
    "              file[\"Delphes;1\"][\"MissingET.MET\"].array(),\n",
    "              file[\"Delphes;1\"][\"MissingET.Eta\"].array(),\n",
    "              file[\"Delphes;1\"][\"MissingET.Phi\"].array(),\n",
    "              file[\"Delphes;1\"][\"Jet\"].array(),                 #18\n",
    "              file[\"Delphes;1\"][\"Jet.EhadOverEem\"].array(),     \n",
    "              file[\"Delphes;1\"][\"Jet.Mass\"].array(),\n",
    "              file[\"Delphes;1\"][\"Event.Number\"].array(),\n",
    "              file[\"Delphes;1\"][\"Jet.Tau[5]\"].array()\n",
    "              ]\n",
    "    \n",
    "    event = np.expand_dims(event, axis=-1)    ### reshape data\n",
    "    event = event.transpose((1,0,2))\n",
    "    event = np.squeeze(event,axis=(2,))\n",
    "    return event \n",
    "\n",
    "feture=['e_Num', 'e_Pt', 'e_Eta', 'ePhi', 'mu_Num', 'mu_Pt', 'mu_Eta', 'mu_Phi', 'a_Num', 'a_Pt', 'a_Eta', 'a_Phi', 'mis_Num', 'mis_ID', 'mis_Fbit', 'mis_Pt', 'mis_Eta', 'mis_Phi', 'jet_Num', 'jet_EhandoverEem', 'jet_Mass', 'Event_Num', 'jet_Tau5' ]"
   ]
  },
  {
   "cell_type": "code",
   "execution_count": 4,
   "metadata": {},
   "outputs": [],
   "source": [
    "bg_events = file_np(bg_file)\n",
    "sg_events = file_np(sg_file)"
   ]
  },
  {
   "cell_type": "code",
   "execution_count": 5,
   "metadata": {},
   "outputs": [],
   "source": [
    "me = 0.000511\n",
    "mu = 0.10566\n",
    "################################################\n",
    "def prlen(events):\n",
    "    print(len(events))\n",
    "\n",
    "################################################  simple sel (any=? l=1 j>1)\n",
    "def num_sl(event,lab,num):\n",
    "    where1 = np.where(event[:,lab]==num)\n",
    "    return event[where1]\n",
    "\n",
    "def l_sl(event):\n",
    "    where1 = np.where(event[:,0]+event[:,4]==1)\n",
    "    return event[where1]\n",
    "\n",
    "def j_sl(event):\n",
    "    where1 = np.where(event[:,18]>0)\n",
    "    return(event[where1])  \n",
    "\n",
    "def Ehover(event,sl_jet):\n",
    "    where=[]\n",
    "    for i in range(len(event)):\n",
    "        if np.min(event[i][19])<0.2:\n",
    "            where.append(i)\n",
    "            sl_jet.append(np.min(event[i][19]))\n",
    "    return event[where]   \n",
    "        \n",
    "################################################  maa caculate\n",
    "def m_aa(events, m, pt1):\n",
    "    where1=[]   \n",
    "    for i in range(len(events)):\n",
    "        p = [0,0,0,0] \n",
    "        for j in range(events[i][8]):\n",
    "            pt = events[i][9][j]   \n",
    "            eta = events[i][10][j]  \n",
    "            phi = events[i][11][j]    \n",
    "            p[1] = p[1] + pt*np.cos(phi)    ### px\n",
    "            p[2] = p[2] + pt*np.sin(phi)    ### py\n",
    "            p[3] = p[3] + pt*np.sinh(eta)   ### pz\n",
    "            p[0] = p[0] + np.sqrt( (pt*np.cos(phi))**2 + (pt*np.sin(phi))**2 + (pt*np.sinh(eta))**2 )     \n",
    "        maa = np.sqrt(p[0]**2 - p[1]**2 - p[2]**2 - p[3]**2)\n",
    "        m.append(maa)\n",
    "        pTaa = np.sqrt(p[1]**2 + p[2]**2)\n",
    "        pt1.append(pTaa)\n",
    "        if 90<maa<110:\n",
    "            where1.append(i)\n",
    "    return events[where1]\n",
    "################################################   pt sl    \n",
    "def pt_sl(events):\n",
    "    where1=[]\n",
    "    for i in range(len(events)):\n",
    "        p = [0,0,0,0]    \n",
    "        for j in range(events[i][8]):\n",
    "            pt = events[i][9][j]    \n",
    "            eta = events[i][10][j]    \n",
    "            phi = events[i][11][j]   \n",
    "            p[1] = p[1] + pt*np.cos(phi)    ### px\n",
    "            p[2] = p[2] + pt*np.sin(phi)    ### py\n",
    "        pTaa = np.sqrt(p[1]**2 + p[2]**2)    \n",
    "        if pTaa>50:\n",
    "              where1.append(i)\n",
    "    return events[where1]\n",
    "################################################ mlv caculate\n",
    "def mvl_sl(events,m):\n",
    "    for i in range(len(events)):\n",
    "        p = [0,0,0,0]\n",
    "        if events[i][0]==1:\n",
    "            pt1  = events[i][1][0]    \n",
    "            eta1 = events[i][2][0]    \n",
    "            phi1 = events[i][3][0]\n",
    "            pt2  = events[i][15][0]    \n",
    "            eta2 = events[i][16][0]    \n",
    "            phi2 = events[i][17][0]\n",
    "            \n",
    "            p[1] = pt1*np.cos(phi1) + pt2*np.cos(phi2)    ### px\n",
    "            p[2] = pt1*np.sin(phi1) + pt2*np.sin(phi2)    ### py\n",
    "            p[3] = pt1*np.sinh(eta1)+ pt2*np.sinh(eta2)   ### pz\n",
    "            p[0] = np.sqrt(me**2 + (pt1*np.cos(phi1))**2 + (pt1*np.sin(phi1))**2 + (pt1*np.sinh(eta1))**2)+np.sqrt((pt2*np.cos(phi2))**2 + (pt2*np.sin(phi2))**2 + (pt2*np.sinh(eta2))**2)\n",
    "            mlv = np.sqrt(p[0]**2 - p[1]**2 - p[2]**2 - p[3]**2)\n",
    "        elif events[i][4]==1 :\n",
    "            pt1  = events[i][5][0]    \n",
    "            eta1 = events[i][6][0]    \n",
    "            phi1 = events[i][7][0]\n",
    "            pt2  = events[i][15][0]    \n",
    "            eta2 = events[i][16][0]    \n",
    "            phi2 = events[i][17][0]\n",
    "            \n",
    "            p[1] = pt1*np.cos(phi1) + pt2*np.cos(phi2)    ### px\n",
    "            p[2] = pt1*np.sin(phi1) + pt2*np.sin(phi2)    ### py\n",
    "            p[3] = pt1*np.sinh(eta1)+ pt2*np.sinh(eta2)   ### pz\n",
    "            p[0] = np.sqrt(mu**2 + (pt1*np.cos(phi1))**2 + (pt1*np.sin(phi1))**2 + (pt1*np.sinh(eta1))**2)+np.sqrt((pt2*np.cos(phi2))**2 + (pt2*np.sin(phi2))**2 + (pt2*np.sinh(eta2))**2)\n",
    "            mlv = np.sqrt(p[0]**2 - p[1]**2 - p[2]**2 - p[3]**2)\n",
    "        m.append(mlv)\n",
    "##################################################\n",
    "\n",
    "  \n",
    "        \n",
    "        \n",
    "        \n",
    "        \n",
    "        \n",
    "        \n",
    "        \n",
    "        \n",
    "        \n",
    "        \n",
    "        \n",
    "        \n",
    "##################################################        \n",
    "def phi_v(events,phi_list):\n",
    "    for i in range(len(events)):\n",
    "        if events[i][0]==1:\n",
    "            for j in range(len(events[i][3])):\n",
    "                phi = (events[i][2][j])\n",
    "                phi_list.append(phi)\n",
    "        elif events[i][4]==1:\n",
    "            for j in range(len(events[i][7])):\n",
    "                phi = events[i][6][j]\n",
    "                phi_list.append(phi)  \n",
    "                \n",
    "def miss_v(events,phi_list):\n",
    "    for i in range(len(events)):\n",
    "        for j in range(len(events[i][16])):\n",
    "            phi = (events[i][17][j])\n",
    "            phi_list.append(phi)\n",
    "##################################################  soon drow [i] hist\n",
    "def soon_draw(events,num):\n",
    "    list1=[]\n",
    "    for i in range(len(events)):\n",
    "        if type(events[i][num])==int:\n",
    "            list1.append(events[i][num])\n",
    "        else:\n",
    "            for j in range(len(events[i][num])):\n",
    "                list1.append(events[i][num][j])\n",
    "    plt.hist(list1,bins='auto',histtype='step')\n",
    "    plt.title(feture[num])\n",
    "    plt.show\n",
    "    \n",
    "def soon_drawvs(sg_events,bg_events,num):\n",
    "    list1=[]\n",
    "    list2=[]\n",
    "    for i in range(len(sg_events)):\n",
    "        if type(sg_events[i][num])==int:\n",
    "            list1.append(sg_events[i][num])\n",
    "        else:\n",
    "            for j in range(len(sg_events[i][num])):\n",
    "                list1.append(sg_events[i][num][j])\n",
    "                \n",
    "    for i in range(len(bg_events)):\n",
    "        if type(bg_events[i][num])==int:\n",
    "            list2.append(bg_events[i][num])\n",
    "        else:\n",
    "            for j in range(len(bg_events[i][num])):\n",
    "                list2.append(bg_events[i][num][j])\n",
    "                       \n",
    "    plt.hist([list1,list2] , bins='auto', histtype='step', label=['sg','bg'],color=['red','gray'])\n",
    "    plt.title(feture[num])\n",
    "    plt.legend()\n",
    "    plt.show()    \n",
    "    \n",
    "###################################################\n"
   ]
  },
  {
   "cell_type": "code",
   "execution_count": 6,
   "metadata": {},
   "outputs": [],
   "source": [
    "def prallsl(sg_events,sgsl_1j_Eho_1l):\n",
    "\n",
    "    prlen(sg_events)\n",
    "\n",
    "    sgsl_1j = j_sl(sg_events)\n",
    "    prlen(sgsl_1j)\n",
    "\n",
    "    sgEho_1j = []\n",
    "\n",
    "    sgsl_1j_Eho = Ehover(sgsl_1j,sgEho_1j)\n",
    "\n",
    "    prlen(sgsl_1j_Eho)\n",
    "\n",
    "    sgsl_1j_Eho_1l = l_sl(sgsl_1j_Eho)\n",
    "\n",
    "    prlen(sgsl_1j_Eho_1l)"
   ]
  },
  {
   "cell_type": "code",
   "execution_count": 8,
   "metadata": {},
   "outputs": [
    {
     "name": "stdout",
     "output_type": "stream",
     "text": [
      "10000\n",
      "7799\n",
      "6543\n",
      "3256\n",
      "\n",
      "10000\n",
      "4710\n",
      "2471\n",
      "813\n"
     ]
    }
   ],
   "source": [
    "sgsl_1j_Eho_1l=[]\n",
    "\n",
    "prallsl(sg_events,sgsl_1j_Eho_1l)\n",
    "\n",
    "bgsl_1j_Eho_1l=[]\n",
    "print('')\n",
    "prallsl(bg_events,bgsl_1j_Eho_1l)"
   ]
  },
  {
   "cell_type": "code",
   "execution_count": 9,
   "metadata": {},
   "outputs": [
    {
     "data": {
      "image/png": "[encoded data removed]",
      "text/plain": [
       "<Figure size 640x480 with 1 Axes>"
      ]
     },
     "metadata": {},
     "output_type": "display_data"
    }
   ],
   "source": [
    "\n",
    "soon_drawvs(sg_events,bg_events,8)\n"
   ]
  },
  {
   "cell_type": "code",
   "execution_count": null,
   "metadata": {},
   "outputs": [],
   "source": [
    "\n"
   ]
  },
  {
   "cell_type": "code",
   "execution_count": null,
   "metadata": {},
   "outputs": [],
   "source": []
  },
  {
   "cell_type": "code",
   "execution_count": null,
   "metadata": {},
   "outputs": [],
   "source": []
  },
  {
   "cell_type": "code",
   "execution_count": null,
   "metadata": {},
   "outputs": [],
   "source": []
  },
  {
   "cell_type": "code",
   "execution_count": null,
   "metadata": {},
   "outputs": [],
   "source": []
  },
  {
   "cell_type": "code",
   "execution_count": null,
   "metadata": {},
   "outputs": [],
   "source": []
  },
  {
   "cell_type": "code",
   "execution_count": null,
   "metadata": {},
   "outputs": [],
   "source": []
  }
 ],
 "metadata": {
  "kernelspec": {
   "display_name": "Python 3 (ipykernel)",
   "language": "python",
   "name": "python3"
  },
  "language_info": {
   "codemirror_mode": {
    "name": "ipython",
    "version": 3
   },
   "file_extension": ".py",
   "mimetype": "text/x-python",
   "name": "python",
   "nbconvert_exporter": "python",
   "pygments_lexer": "ipython3",
   "version": "3.8.5"
  }
 },
 "nbformat": 4,
 "nbformat_minor": 4
}
